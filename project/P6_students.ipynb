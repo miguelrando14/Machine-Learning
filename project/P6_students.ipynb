{
  "cells": [
    {
      "cell_type": "markdown",
      "metadata": {
        "id": "4AZpW1_1eqvs"
      },
      "source": [
        "# <center> Project: **Customer Intelligence** department in a Bank company: real world examples of a **Data Scientist** in a Bank company. Part II: Extra bonus - Regression model for car price estimation"
      ]
    },
    {
      "cell_type": "markdown",
      "metadata": {
        "id": "DhEXMGODeqvu"
      },
      "source": [
        "# Project goals:\n",
        "In this part of the project, we continue working as a Data Scientist in our Bank company facing to new challenges in the area of Machine Learning.\n",
        "\n",
        "In particular, the Bank credit department is realizing that a lot of customers are asking credits to purchase second-hand vehicles. Until now they have used a price reference book but this last is not too accurate and the final consequence is the Bank is not measuring correctly the risk of granting these credits.\n",
        "\n",
        "Therefore, as a Customer Intelligence team member, you will be responsible for designing, developing and analyzing a model to estimate the price of a second hand vehicle based on its main characteristics. To do it we will use a **Multilayer Perceptron (MLP)** architecture."
      ]
    },
    {
      "cell_type": "markdown",
      "source": [
        "### Due date: up to Junem 18th at 23:59h.\n",
        "### Submission procedure: via Moodle."
      ],
      "metadata": {
        "id": "pRzeAGhqA8Wi"
      }
    },
    {
      "cell_type": "markdown",
      "source": [
        "# Step 1: Data gathering"
      ],
      "metadata": {
        "id": "YRTBF1prBEcp"
      }
    },
    {
      "cell_type": "markdown",
      "source": [
        "In this part of the Project we are using a new dataset named `CarPrice.csv`. This file contains information of **205 of cars** and 26 features that describes the main characteristics of every car. Some examples of these ones are:\n",
        "\n",
        "- *car_ID*: It's an integer that identifies any car.\n",
        "- *symboling*: It's an integer that identifies a car category\n",
        "- *CarName*: Manufacture and model of the car\n",
        "- *fueltype*: Type of fuel that the car uses\n",
        "- ...\n",
        "- *price*: The current price of the car in the market\n"
      ],
      "metadata": {
        "id": "Lk1KfnrFBFja"
      }
    },
    {
      "cell_type": "markdown",
      "source": [
        "Let's upload some libraries and function we will need to develop our model."
      ],
      "metadata": {
        "id": "gzYQ-ivxILao"
      }
    },
    {
      "cell_type": "code",
      "execution_count": 1,
      "metadata": {
        "id": "OsbFuvmBeqvv"
      },
      "outputs": [],
      "source": [
        "# Imports\n",
        "import numpy as np\n",
        "from matplotlib import pyplot as plt\n",
        "import pandas as pd\n",
        "import numpy as np\n",
        "import matplotlib.pyplot as plt\n",
        "#import matplotlib.animation as animation\n",
        "\n",
        "\n",
        "#%matplotlib notebook\n",
        "import matplotlib.cm as cm\n",
        "import seaborn as sns\n",
        "from matplotlib import pyplot\n",
        "from sklearn.preprocessing import StandardScaler\n",
        "from sklearn.preprocessing import Normalizer\n",
        "from sklearn.preprocessing import MinMaxScaler\n",
        "from sklearn.preprocessing import LabelEncoder\n",
        "\n",
        "from sklearn.model_selection import train_test_split, KFold, cross_val_score\n",
        "from sklearn.metrics import r2_score, mean_absolute_error"
      ]
    },
    {
      "cell_type": "markdown",
      "source": [
        "**[EX0]** Upload the car price into a Dataframe named `car_price_dt`. You should obtain a dataframe similar to this one.\n",
        "\n",
        "\n"
      ],
      "metadata": {
        "id": "vBI002-U4k1H"
      }
    },
    {
      "cell_type": "code",
      "source": [
        "from google.colab import files\n",
        "uploaded = files.upload()"
      ],
      "metadata": {
        "colab": {
          "base_uri": "https://localhost:8080/",
          "height": 74
        },
        "id": "tNXvPvkhGBnK",
        "outputId": "762622a1-2bbf-40f5-fca4-c0af5373756e"
      },
      "execution_count": 2,
      "outputs": [
        {
          "output_type": "display_data",
          "data": {
            "text/plain": [
              "<IPython.core.display.HTML object>"
            ],
            "text/html": [
              "\n",
              "     <input type=\"file\" id=\"files-0f6b7e29-2201-4344-8e65-c533c41326be\" name=\"files[]\" multiple disabled\n",
              "        style=\"border:none\" />\n",
              "     <output id=\"result-0f6b7e29-2201-4344-8e65-c533c41326be\">\n",
              "      Upload widget is only available when the cell has been executed in the\n",
              "      current browser session. Please rerun this cell to enable.\n",
              "      </output>\n",
              "      <script>// Copyright 2017 Google LLC\n",
              "//\n",
              "// Licensed under the Apache License, Version 2.0 (the \"License\");\n",
              "// you may not use this file except in compliance with the License.\n",
              "// You may obtain a copy of the License at\n",
              "//\n",
              "//      http://www.apache.org/licenses/LICENSE-2.0\n",
              "//\n",
              "// Unless required by applicable law or agreed to in writing, software\n",
              "// distributed under the License is distributed on an \"AS IS\" BASIS,\n",
              "// WITHOUT WARRANTIES OR CONDITIONS OF ANY KIND, either express or implied.\n",
              "// See the License for the specific language governing permissions and\n",
              "// limitations under the License.\n",
              "\n",
              "/**\n",
              " * @fileoverview Helpers for google.colab Python module.\n",
              " */\n",
              "(function(scope) {\n",
              "function span(text, styleAttributes = {}) {\n",
              "  const element = document.createElement('span');\n",
              "  element.textContent = text;\n",
              "  for (const key of Object.keys(styleAttributes)) {\n",
              "    element.style[key] = styleAttributes[key];\n",
              "  }\n",
              "  return element;\n",
              "}\n",
              "\n",
              "// Max number of bytes which will be uploaded at a time.\n",
              "const MAX_PAYLOAD_SIZE = 100 * 1024;\n",
              "\n",
              "function _uploadFiles(inputId, outputId) {\n",
              "  const steps = uploadFilesStep(inputId, outputId);\n",
              "  const outputElement = document.getElementById(outputId);\n",
              "  // Cache steps on the outputElement to make it available for the next call\n",
              "  // to uploadFilesContinue from Python.\n",
              "  outputElement.steps = steps;\n",
              "\n",
              "  return _uploadFilesContinue(outputId);\n",
              "}\n",
              "\n",
              "// This is roughly an async generator (not supported in the browser yet),\n",
              "// where there are multiple asynchronous steps and the Python side is going\n",
              "// to poll for completion of each step.\n",
              "// This uses a Promise to block the python side on completion of each step,\n",
              "// then passes the result of the previous step as the input to the next step.\n",
              "function _uploadFilesContinue(outputId) {\n",
              "  const outputElement = document.getElementById(outputId);\n",
              "  const steps = outputElement.steps;\n",
              "\n",
              "  const next = steps.next(outputElement.lastPromiseValue);\n",
              "  return Promise.resolve(next.value.promise).then((value) => {\n",
              "    // Cache the last promise value to make it available to the next\n",
              "    // step of the generator.\n",
              "    outputElement.lastPromiseValue = value;\n",
              "    return next.value.response;\n",
              "  });\n",
              "}\n",
              "\n",
              "/**\n",
              " * Generator function which is called between each async step of the upload\n",
              " * process.\n",
              " * @param {string} inputId Element ID of the input file picker element.\n",
              " * @param {string} outputId Element ID of the output display.\n",
              " * @return {!Iterable<!Object>} Iterable of next steps.\n",
              " */\n",
              "function* uploadFilesStep(inputId, outputId) {\n",
              "  const inputElement = document.getElementById(inputId);\n",
              "  inputElement.disabled = false;\n",
              "\n",
              "  const outputElement = document.getElementById(outputId);\n",
              "  outputElement.innerHTML = '';\n",
              "\n",
              "  const pickedPromise = new Promise((resolve) => {\n",
              "    inputElement.addEventListener('change', (e) => {\n",
              "      resolve(e.target.files);\n",
              "    });\n",
              "  });\n",
              "\n",
              "  const cancel = document.createElement('button');\n",
              "  inputElement.parentElement.appendChild(cancel);\n",
              "  cancel.textContent = 'Cancel upload';\n",
              "  const cancelPromise = new Promise((resolve) => {\n",
              "    cancel.onclick = () => {\n",
              "      resolve(null);\n",
              "    };\n",
              "  });\n",
              "\n",
              "  // Wait for the user to pick the files.\n",
              "  const files = yield {\n",
              "    promise: Promise.race([pickedPromise, cancelPromise]),\n",
              "    response: {\n",
              "      action: 'starting',\n",
              "    }\n",
              "  };\n",
              "\n",
              "  cancel.remove();\n",
              "\n",
              "  // Disable the input element since further picks are not allowed.\n",
              "  inputElement.disabled = true;\n",
              "\n",
              "  if (!files) {\n",
              "    return {\n",
              "      response: {\n",
              "        action: 'complete',\n",
              "      }\n",
              "    };\n",
              "  }\n",
              "\n",
              "  for (const file of files) {\n",
              "    const li = document.createElement('li');\n",
              "    li.append(span(file.name, {fontWeight: 'bold'}));\n",
              "    li.append(span(\n",
              "        `(${file.type || 'n/a'}) - ${file.size} bytes, ` +\n",
              "        `last modified: ${\n",
              "            file.lastModifiedDate ? file.lastModifiedDate.toLocaleDateString() :\n",
              "                                    'n/a'} - `));\n",
              "    const percent = span('0% done');\n",
              "    li.appendChild(percent);\n",
              "\n",
              "    outputElement.appendChild(li);\n",
              "\n",
              "    const fileDataPromise = new Promise((resolve) => {\n",
              "      const reader = new FileReader();\n",
              "      reader.onload = (e) => {\n",
              "        resolve(e.target.result);\n",
              "      };\n",
              "      reader.readAsArrayBuffer(file);\n",
              "    });\n",
              "    // Wait for the data to be ready.\n",
              "    let fileData = yield {\n",
              "      promise: fileDataPromise,\n",
              "      response: {\n",
              "        action: 'continue',\n",
              "      }\n",
              "    };\n",
              "\n",
              "    // Use a chunked sending to avoid message size limits. See b/62115660.\n",
              "    let position = 0;\n",
              "    do {\n",
              "      const length = Math.min(fileData.byteLength - position, MAX_PAYLOAD_SIZE);\n",
              "      const chunk = new Uint8Array(fileData, position, length);\n",
              "      position += length;\n",
              "\n",
              "      const base64 = btoa(String.fromCharCode.apply(null, chunk));\n",
              "      yield {\n",
              "        response: {\n",
              "          action: 'append',\n",
              "          file: file.name,\n",
              "          data: base64,\n",
              "        },\n",
              "      };\n",
              "\n",
              "      let percentDone = fileData.byteLength === 0 ?\n",
              "          100 :\n",
              "          Math.round((position / fileData.byteLength) * 100);\n",
              "      percent.textContent = `${percentDone}% done`;\n",
              "\n",
              "    } while (position < fileData.byteLength);\n",
              "  }\n",
              "\n",
              "  // All done.\n",
              "  yield {\n",
              "    response: {\n",
              "      action: 'complete',\n",
              "    }\n",
              "  };\n",
              "}\n",
              "\n",
              "scope.google = scope.google || {};\n",
              "scope.google.colab = scope.google.colab || {};\n",
              "scope.google.colab._files = {\n",
              "  _uploadFiles,\n",
              "  _uploadFilesContinue,\n",
              "};\n",
              "})(self);\n",
              "</script> "
            ]
          },
          "metadata": {}
        },
        {
          "output_type": "stream",
          "name": "stdout",
          "text": [
            "Saving car_prediction.csv to car_prediction.csv\n"
          ]
        }
      ]
    },
    {
      "cell_type": "code",
      "source": [
        "# Open the CSV file and assign it to a dataframe\n",
        "car_price_dt = pd.read_csv(\"car_prediction.csv\", sep=\";\")"
      ],
      "metadata": {
        "id": "UkbouPwbGEwI"
      },
      "execution_count": 3,
      "outputs": []
    },
    {
      "cell_type": "code",
      "source": [
        "car_price_dt.head()"
      ],
      "metadata": {
        "colab": {
          "base_uri": "https://localhost:8080/",
          "height": 352
        },
        "id": "-wIepbw6tTV4",
        "outputId": "6f4eda40-72aa-4bc7-d60e-ce0e525aeb41"
      },
      "execution_count": 4,
      "outputs": [
        {
          "output_type": "execute_result",
          "data": {
            "text/plain": [
              "   car_ID  symboling                   CarName fueltype aspiration doornumber  \\\n",
              "0       1          3        alfa-romero giulia      gas        std        two   \n",
              "1       2          3       alfa-romero stelvio      gas        std        two   \n",
              "2       3          1  alfa-romero Quadrifoglio      gas        std        two   \n",
              "3       4          2               audi 100 ls      gas        std       four   \n",
              "4       5          2                audi 100ls      gas        std       four   \n",
              "\n",
              "       carbody drivewheel enginelocation  wheelbase  ...  enginesize  \\\n",
              "0  convertible        rwd          front       88.6  ...         130   \n",
              "1  convertible        rwd          front       88.6  ...         130   \n",
              "2    hatchback        rwd          front       94.5  ...         152   \n",
              "3        sedan        fwd          front       99.8  ...         109   \n",
              "4        sedan        4wd          front       99.4  ...         136   \n",
              "\n",
              "   fuelsystem  boreratio  stroke compressionratio horsepower  peakrpm citympg  \\\n",
              "0        mpfi       3.47    2.68              9.0        111     5000      21   \n",
              "1        mpfi       3.47    2.68              9.0        111     5000      21   \n",
              "2        mpfi       2.68    3.47              9.0        154     5000      19   \n",
              "3        mpfi       3.19    3.40             10.0        102     5500      24   \n",
              "4        mpfi       3.19    3.40              8.0        115     5500      18   \n",
              "\n",
              "   highwaympg    price  \n",
              "0          27  13495.0  \n",
              "1          27  16500.0  \n",
              "2          26  16500.0  \n",
              "3          30  13950.0  \n",
              "4          22  17450.0  \n",
              "\n",
              "[5 rows x 26 columns]"
            ],
            "text/html": [
              "\n",
              "  <div id=\"df-4d75cd28-7b90-449d-9a7f-d0feb03a08df\">\n",
              "    <div class=\"colab-df-container\">\n",
              "      <div>\n",
              "<style scoped>\n",
              "    .dataframe tbody tr th:only-of-type {\n",
              "        vertical-align: middle;\n",
              "    }\n",
              "\n",
              "    .dataframe tbody tr th {\n",
              "        vertical-align: top;\n",
              "    }\n",
              "\n",
              "    .dataframe thead th {\n",
              "        text-align: right;\n",
              "    }\n",
              "</style>\n",
              "<table border=\"1\" class=\"dataframe\">\n",
              "  <thead>\n",
              "    <tr style=\"text-align: right;\">\n",
              "      <th></th>\n",
              "      <th>car_ID</th>\n",
              "      <th>symboling</th>\n",
              "      <th>CarName</th>\n",
              "      <th>fueltype</th>\n",
              "      <th>aspiration</th>\n",
              "      <th>doornumber</th>\n",
              "      <th>carbody</th>\n",
              "      <th>drivewheel</th>\n",
              "      <th>enginelocation</th>\n",
              "      <th>wheelbase</th>\n",
              "      <th>...</th>\n",
              "      <th>enginesize</th>\n",
              "      <th>fuelsystem</th>\n",
              "      <th>boreratio</th>\n",
              "      <th>stroke</th>\n",
              "      <th>compressionratio</th>\n",
              "      <th>horsepower</th>\n",
              "      <th>peakrpm</th>\n",
              "      <th>citympg</th>\n",
              "      <th>highwaympg</th>\n",
              "      <th>price</th>\n",
              "    </tr>\n",
              "  </thead>\n",
              "  <tbody>\n",
              "    <tr>\n",
              "      <th>0</th>\n",
              "      <td>1</td>\n",
              "      <td>3</td>\n",
              "      <td>alfa-romero giulia</td>\n",
              "      <td>gas</td>\n",
              "      <td>std</td>\n",
              "      <td>two</td>\n",
              "      <td>convertible</td>\n",
              "      <td>rwd</td>\n",
              "      <td>front</td>\n",
              "      <td>88.6</td>\n",
              "      <td>...</td>\n",
              "      <td>130</td>\n",
              "      <td>mpfi</td>\n",
              "      <td>3.47</td>\n",
              "      <td>2.68</td>\n",
              "      <td>9.0</td>\n",
              "      <td>111</td>\n",
              "      <td>5000</td>\n",
              "      <td>21</td>\n",
              "      <td>27</td>\n",
              "      <td>13495.0</td>\n",
              "    </tr>\n",
              "    <tr>\n",
              "      <th>1</th>\n",
              "      <td>2</td>\n",
              "      <td>3</td>\n",
              "      <td>alfa-romero stelvio</td>\n",
              "      <td>gas</td>\n",
              "      <td>std</td>\n",
              "      <td>two</td>\n",
              "      <td>convertible</td>\n",
              "      <td>rwd</td>\n",
              "      <td>front</td>\n",
              "      <td>88.6</td>\n",
              "      <td>...</td>\n",
              "      <td>130</td>\n",
              "      <td>mpfi</td>\n",
              "      <td>3.47</td>\n",
              "      <td>2.68</td>\n",
              "      <td>9.0</td>\n",
              "      <td>111</td>\n",
              "      <td>5000</td>\n",
              "      <td>21</td>\n",
              "      <td>27</td>\n",
              "      <td>16500.0</td>\n",
              "    </tr>\n",
              "    <tr>\n",
              "      <th>2</th>\n",
              "      <td>3</td>\n",
              "      <td>1</td>\n",
              "      <td>alfa-romero Quadrifoglio</td>\n",
              "      <td>gas</td>\n",
              "      <td>std</td>\n",
              "      <td>two</td>\n",
              "      <td>hatchback</td>\n",
              "      <td>rwd</td>\n",
              "      <td>front</td>\n",
              "      <td>94.5</td>\n",
              "      <td>...</td>\n",
              "      <td>152</td>\n",
              "      <td>mpfi</td>\n",
              "      <td>2.68</td>\n",
              "      <td>3.47</td>\n",
              "      <td>9.0</td>\n",
              "      <td>154</td>\n",
              "      <td>5000</td>\n",
              "      <td>19</td>\n",
              "      <td>26</td>\n",
              "      <td>16500.0</td>\n",
              "    </tr>\n",
              "    <tr>\n",
              "      <th>3</th>\n",
              "      <td>4</td>\n",
              "      <td>2</td>\n",
              "      <td>audi 100 ls</td>\n",
              "      <td>gas</td>\n",
              "      <td>std</td>\n",
              "      <td>four</td>\n",
              "      <td>sedan</td>\n",
              "      <td>fwd</td>\n",
              "      <td>front</td>\n",
              "      <td>99.8</td>\n",
              "      <td>...</td>\n",
              "      <td>109</td>\n",
              "      <td>mpfi</td>\n",
              "      <td>3.19</td>\n",
              "      <td>3.40</td>\n",
              "      <td>10.0</td>\n",
              "      <td>102</td>\n",
              "      <td>5500</td>\n",
              "      <td>24</td>\n",
              "      <td>30</td>\n",
              "      <td>13950.0</td>\n",
              "    </tr>\n",
              "    <tr>\n",
              "      <th>4</th>\n",
              "      <td>5</td>\n",
              "      <td>2</td>\n",
              "      <td>audi 100ls</td>\n",
              "      <td>gas</td>\n",
              "      <td>std</td>\n",
              "      <td>four</td>\n",
              "      <td>sedan</td>\n",
              "      <td>4wd</td>\n",
              "      <td>front</td>\n",
              "      <td>99.4</td>\n",
              "      <td>...</td>\n",
              "      <td>136</td>\n",
              "      <td>mpfi</td>\n",
              "      <td>3.19</td>\n",
              "      <td>3.40</td>\n",
              "      <td>8.0</td>\n",
              "      <td>115</td>\n",
              "      <td>5500</td>\n",
              "      <td>18</td>\n",
              "      <td>22</td>\n",
              "      <td>17450.0</td>\n",
              "    </tr>\n",
              "  </tbody>\n",
              "</table>\n",
              "<p>5 rows × 26 columns</p>\n",
              "</div>\n",
              "      <button class=\"colab-df-convert\" onclick=\"convertToInteractive('df-4d75cd28-7b90-449d-9a7f-d0feb03a08df')\"\n",
              "              title=\"Convert this dataframe to an interactive table.\"\n",
              "              style=\"display:none;\">\n",
              "        \n",
              "  <svg xmlns=\"http://www.w3.org/2000/svg\" height=\"24px\"viewBox=\"0 0 24 24\"\n",
              "       width=\"24px\">\n",
              "    <path d=\"M0 0h24v24H0V0z\" fill=\"none\"/>\n",
              "    <path d=\"M18.56 5.44l.94 2.06.94-2.06 2.06-.94-2.06-.94-.94-2.06-.94 2.06-2.06.94zm-11 1L8.5 8.5l.94-2.06 2.06-.94-2.06-.94L8.5 2.5l-.94 2.06-2.06.94zm10 10l.94 2.06.94-2.06 2.06-.94-2.06-.94-.94-2.06-.94 2.06-2.06.94z\"/><path d=\"M17.41 7.96l-1.37-1.37c-.4-.4-.92-.59-1.43-.59-.52 0-1.04.2-1.43.59L10.3 9.45l-7.72 7.72c-.78.78-.78 2.05 0 2.83L4 21.41c.39.39.9.59 1.41.59.51 0 1.02-.2 1.41-.59l7.78-7.78 2.81-2.81c.8-.78.8-2.07 0-2.86zM5.41 20L4 18.59l7.72-7.72 1.47 1.35L5.41 20z\"/>\n",
              "  </svg>\n",
              "      </button>\n",
              "      \n",
              "  <style>\n",
              "    .colab-df-container {\n",
              "      display:flex;\n",
              "      flex-wrap:wrap;\n",
              "      gap: 12px;\n",
              "    }\n",
              "\n",
              "    .colab-df-convert {\n",
              "      background-color: #E8F0FE;\n",
              "      border: none;\n",
              "      border-radius: 50%;\n",
              "      cursor: pointer;\n",
              "      display: none;\n",
              "      fill: #1967D2;\n",
              "      height: 32px;\n",
              "      padding: 0 0 0 0;\n",
              "      width: 32px;\n",
              "    }\n",
              "\n",
              "    .colab-df-convert:hover {\n",
              "      background-color: #E2EBFA;\n",
              "      box-shadow: 0px 1px 2px rgba(60, 64, 67, 0.3), 0px 1px 3px 1px rgba(60, 64, 67, 0.15);\n",
              "      fill: #174EA6;\n",
              "    }\n",
              "\n",
              "    [theme=dark] .colab-df-convert {\n",
              "      background-color: #3B4455;\n",
              "      fill: #D2E3FC;\n",
              "    }\n",
              "\n",
              "    [theme=dark] .colab-df-convert:hover {\n",
              "      background-color: #434B5C;\n",
              "      box-shadow: 0px 1px 3px 1px rgba(0, 0, 0, 0.15);\n",
              "      filter: drop-shadow(0px 1px 2px rgba(0, 0, 0, 0.3));\n",
              "      fill: #FFFFFF;\n",
              "    }\n",
              "  </style>\n",
              "\n",
              "      <script>\n",
              "        const buttonEl =\n",
              "          document.querySelector('#df-4d75cd28-7b90-449d-9a7f-d0feb03a08df button.colab-df-convert');\n",
              "        buttonEl.style.display =\n",
              "          google.colab.kernel.accessAllowed ? 'block' : 'none';\n",
              "\n",
              "        async function convertToInteractive(key) {\n",
              "          const element = document.querySelector('#df-4d75cd28-7b90-449d-9a7f-d0feb03a08df');\n",
              "          const dataTable =\n",
              "            await google.colab.kernel.invokeFunction('convertToInteractive',\n",
              "                                                     [key], {});\n",
              "          if (!dataTable) return;\n",
              "\n",
              "          const docLinkHtml = 'Like what you see? Visit the ' +\n",
              "            '<a target=\"_blank\" href=https://colab.research.google.com/notebooks/data_table.ipynb>data table notebook</a>'\n",
              "            + ' to learn more about interactive tables.';\n",
              "          element.innerHTML = '';\n",
              "          dataTable['output_type'] = 'display_data';\n",
              "          await google.colab.output.renderOutput(dataTable, element);\n",
              "          const docLink = document.createElement('div');\n",
              "          docLink.innerHTML = docLinkHtml;\n",
              "          element.appendChild(docLink);\n",
              "        }\n",
              "      </script>\n",
              "    </div>\n",
              "  </div>\n",
              "  "
            ]
          },
          "metadata": {},
          "execution_count": 4
        }
      ]
    },
    {
      "cell_type": "markdown",
      "source": [
        "# Step 2: Data understanding and preparation"
      ],
      "metadata": {
        "id": "68A8Ld0eDgbu"
      }
    },
    {
      "cell_type": "markdown",
      "source": [
        "Once we know the problem to solve, the next stage is to have a clear understanding of the data we have extracted and to prepare it before modelling. In particular, we will:\n",
        "- List and verify the type of each variable (object, float, int...). Identify variables with nulls. Measure the memory usage\n",
        "- Eliminate rows with nulls in order to have a dataset 100% fulfilled\n",
        "- Exploratory Data Analysis to understand main statistics (mean, standard deviation, min&max values and 25%-50%-75% quartiles) and distribution of the most relevant variables or features\n",
        "- Plot several graphs in order to identify how variables are related between them. In particular:\n",
        "- correlation matrix\n",
        "- 2D and 3D scatter plots\n",
        "\n",
        "Once this part, also known as **data wrangling** of the Project is done, we should achieve a deep knowledge about the data."
      ],
      "metadata": {
        "id": "9vFpFKJbDkOU"
      }
    },
    {
      "cell_type": "markdown",
      "source": [
        "**[EX1]** Is there any null variable to fix?"
      ],
      "metadata": {
        "id": "7rv5LhSBEEZU"
      }
    },
    {
      "cell_type": "code",
      "source": [
        "nulls = car_price_dt.isnull().sum()\n",
        "print(nulls)"
      ],
      "metadata": {
        "colab": {
          "base_uri": "https://localhost:8080/"
        },
        "id": "sfWwFJzKHEUX",
        "outputId": "f0c37e19-8e2f-4ebb-e339-0ff2cb134b58"
      },
      "execution_count": 5,
      "outputs": [
        {
          "output_type": "stream",
          "name": "stdout",
          "text": [
            "car_ID              0\n",
            "symboling           0\n",
            "CarName             0\n",
            "fueltype            0\n",
            "aspiration          0\n",
            "doornumber          0\n",
            "carbody             0\n",
            "drivewheel          0\n",
            "enginelocation      0\n",
            "wheelbase           0\n",
            "carlength           0\n",
            "carwidth            0\n",
            "carheight           0\n",
            "curbweight          0\n",
            "enginetype          0\n",
            "cylindernumber      0\n",
            "enginesize          0\n",
            "fuelsystem          0\n",
            "boreratio           0\n",
            "stroke              0\n",
            "compressionratio    0\n",
            "horsepower          0\n",
            "peakrpm             0\n",
            "citympg             0\n",
            "highwaympg          0\n",
            "price               0\n",
            "dtype: int64\n"
          ]
        }
      ]
    },
    {
      "cell_type": "markdown",
      "source": [
        "**ANSWER** No, there are not nulls to fix."
      ],
      "metadata": {
        "id": "z-j7iDMOH0Ml"
      }
    },
    {
      "cell_type": "markdown",
      "source": [
        "**[EX2]** Calculate the quartiles, maximum and minimum values for numeric features"
      ],
      "metadata": {
        "id": "Pjsa75CjEoCw"
      }
    },
    {
      "cell_type": "code",
      "source": [
        "numeric_stats = car_price_dt.describe().loc[['min', '25%', '50%', '75%', 'max']]    #.loc select only the statistics that we want\n",
        "print(numeric_stats)"
      ],
      "metadata": {
        "colab": {
          "base_uri": "https://localhost:8080/"
        },
        "id": "1pl51OcYIHUo",
        "outputId": "3f7f8707-2a1f-4fe8-9a09-e0138a42b688"
      },
      "execution_count": 6,
      "outputs": [
        {
          "output_type": "stream",
          "name": "stdout",
          "text": [
            "     car_ID  symboling  wheelbase  carlength  carwidth  carheight  curbweight  \\\n",
            "min     1.0       -2.0       86.6      141.1      60.3       47.8      1488.0   \n",
            "25%    52.0        0.0       94.5      166.3      64.1       52.0      2145.0   \n",
            "50%   103.0        1.0       97.0      173.2      65.5       54.1      2414.0   \n",
            "75%   154.0        2.0      102.4      183.1      66.9       55.5      2935.0   \n",
            "max   205.0        3.0      120.9      208.1      72.3       59.8      4066.0   \n",
            "\n",
            "     enginesize  boreratio  stroke  compressionratio  horsepower  peakrpm  \\\n",
            "min        61.0       2.54    2.07               7.0        48.0   4150.0   \n",
            "25%        97.0       3.15    3.11               8.6        70.0   4800.0   \n",
            "50%       120.0       3.31    3.29               9.0        95.0   5200.0   \n",
            "75%       141.0       3.58    3.41               9.4       116.0   5500.0   \n",
            "max       326.0       3.94    4.17              23.0       288.0   6600.0   \n",
            "\n",
            "     citympg  highwaympg      price  \n",
            "min     13.0        16.0     17.859  \n",
            "25%     19.0        25.0   7775.000  \n",
            "50%     24.0        30.0  10245.000  \n",
            "75%     30.0        34.0  16500.000  \n",
            "max     49.0        54.0  45400.000  \n"
          ]
        }
      ]
    },
    {
      "cell_type": "markdown",
      "source": [
        "**[EX3]** Plot the distribution of the column `price`"
      ],
      "metadata": {
        "id": "5jOvJ7d2F-dw"
      }
    },
    {
      "cell_type": "code",
      "source": [
        "# Plot the distribution of 'price'\n",
        "plt.hist(car_price_dt['price'], bins=30, edgecolor='k')   #edege color 'k' is black for the borders, we supose that 30 bins are okay\n",
        "plt.xlabel('Price')\n",
        "plt.ylabel('Times')\n",
        "plt.title('Distribution of Price')\n",
        "plt.show()"
      ],
      "metadata": {
        "colab": {
          "base_uri": "https://localhost:8080/",
          "height": 472
        },
        "id": "Zc13hzuvIgPc",
        "outputId": "9a9cc917-83f5-4e9e-89d4-97f126f3116e"
      },
      "execution_count": 7,
      "outputs": [
        {
          "output_type": "display_data",
          "data": {
            "text/plain": [
              "<Figure size 640x480 with 1 Axes>"
            ],
            "image/png": "[encoded data removed]"
          },
          "metadata": {}
        }
      ]
    },
    {
      "cell_type": "markdown",
      "source": [
        "**[EX4]** Plot the correlation matrix between numerical features\n"
      ],
      "metadata": {
        "id": "RyVAKj77GMYe"
      }
    },
    {
      "cell_type": "code",
      "source": [
        "# Select the numerical features\n",
        "numerical_features = ['car_ID', 'symboling', 'wheelbase', 'carlength', 'carwidth', 'carheight', 'curbweight',\n",
        "                      'enginesize', 'boreratio', 'stroke', 'compressionratio', 'horsepower', 'peakrpm',\n",
        "                      'citympg', 'highwaympg', 'price']\n",
        "\n",
        "# Compute the correlation matrix\n",
        "correlation_matrix = car_price_dt[numerical_features].corr()\n",
        "\n",
        "# Now we convert the matrix into a table with pandas\n",
        "correlation_matrix = pd.DataFrame(correlation_matrix)\n",
        "print(correlation_matrix)"
      ],
      "metadata": {
        "colab": {
          "base_uri": "https://localhost:8080/"
        },
        "id": "Tjfl7jvlJjSo",
        "outputId": "a59487ae-ac6d-44ac-f25f-1bb072baabc8"
      },
      "execution_count": 8,
      "outputs": [
        {
          "output_type": "stream",
          "name": "stdout",
          "text": [
            "                    car_ID  symboling  wheelbase  carlength  carwidth  \\\n",
            "car_ID            1.000000  -0.151621   0.129729   0.170636  0.052387   \n",
            "symboling        -0.151621   1.000000  -0.531954  -0.357612 -0.232919   \n",
            "wheelbase         0.129729  -0.531954   1.000000   0.874587  0.795144   \n",
            "carlength         0.170636  -0.357612   0.874587   1.000000  0.841118   \n",
            "carwidth          0.052387  -0.232919   0.795144   0.841118  1.000000   \n",
            "carheight         0.255960  -0.541038   0.589435   0.491029  0.279210   \n",
            "curbweight        0.071962  -0.227691   0.776386   0.877728  0.867032   \n",
            "enginesize       -0.033930  -0.105790   0.569329   0.683360  0.735433   \n",
            "boreratio         0.260064  -0.130051   0.488750   0.606454  0.559150   \n",
            "stroke           -0.160824  -0.008735   0.160959   0.129533  0.182942   \n",
            "compressionratio  0.150276  -0.178515   0.249786   0.158414  0.181129   \n",
            "horsepower       -0.015006   0.070873   0.353294   0.552623  0.640732   \n",
            "peakrpm          -0.203789   0.273606  -0.360469  -0.287242 -0.220012   \n",
            "citympg           0.015940  -0.035823  -0.470414  -0.670909 -0.642704   \n",
            "highwaympg        0.011255   0.034606  -0.544082  -0.704662 -0.677218   \n",
            "price            -0.091395  -0.072221   0.573101   0.675274  0.744788   \n",
            "\n",
            "                  carheight  curbweight  enginesize  boreratio    stroke  \\\n",
            "car_ID             0.255960    0.071962   -0.033930   0.260064 -0.160824   \n",
            "symboling         -0.541038   -0.227691   -0.105790  -0.130051 -0.008735   \n",
            "wheelbase          0.589435    0.776386    0.569329   0.488750  0.160959   \n",
            "carlength          0.491029    0.877728    0.683360   0.606454  0.129533   \n",
            "carwidth           0.279210    0.867032    0.735433   0.559150  0.182942   \n",
            "carheight          1.000000    0.295572    0.067149   0.171071 -0.055307   \n",
            "curbweight         0.295572    1.000000    0.850594   0.648480  0.168790   \n",
            "enginesize         0.067149    0.850594    1.000000   0.583774  0.203129   \n",
            "boreratio          0.171071    0.648480    0.583774   1.000000 -0.055909   \n",
            "stroke            -0.055307    0.168790    0.203129  -0.055909  1.000000   \n",
            "compressionratio   0.261214    0.151362    0.028971   0.005197  0.186110   \n",
            "horsepower        -0.108802    0.750739    0.809769   0.573677  0.080940   \n",
            "peakrpm           -0.320411   -0.266243   -0.244660  -0.254976 -0.067964   \n",
            "citympg           -0.048640   -0.757414   -0.653658  -0.584532 -0.042145   \n",
            "highwaympg        -0.107358   -0.797465   -0.677470  -0.587012 -0.043931   \n",
            "price              0.126323    0.820034    0.867976   0.557973  0.073962   \n",
            "\n",
            "                  compressionratio  horsepower   peakrpm   citympg  \\\n",
            "car_ID                    0.150276   -0.015006 -0.203789  0.015940   \n",
            "symboling                -0.178515    0.070873  0.273606 -0.035823   \n",
            "wheelbase                 0.249786    0.353294 -0.360469 -0.470414   \n",
            "carlength                 0.158414    0.552623 -0.287242 -0.670909   \n",
            "carwidth                  0.181129    0.640732 -0.220012 -0.642704   \n",
            "carheight                 0.261214   -0.108802 -0.320411 -0.048640   \n",
            "curbweight                0.151362    0.750739 -0.266243 -0.757414   \n",
            "enginesize                0.028971    0.809769 -0.244660 -0.653658   \n",
            "boreratio                 0.005197    0.573677 -0.254976 -0.584532   \n",
            "stroke                    0.186110    0.080940 -0.067964 -0.042145   \n",
            "compressionratio          1.000000   -0.204326 -0.435741  0.324701   \n",
            "horsepower               -0.204326    1.000000  0.131073 -0.801456   \n",
            "peakrpm                  -0.435741    0.131073  1.000000 -0.113544   \n",
            "citympg                   0.324701   -0.801456 -0.113544  1.000000   \n",
            "highwaympg                0.265201   -0.770544 -0.054275  0.971337   \n",
            "price                     0.076198    0.788044 -0.093323 -0.666413   \n",
            "\n",
            "                  highwaympg     price  \n",
            "car_ID              0.011255 -0.091395  \n",
            "symboling           0.034606 -0.072221  \n",
            "wheelbase          -0.544082  0.573101  \n",
            "carlength          -0.704662  0.675274  \n",
            "carwidth           -0.677218  0.744788  \n",
            "carheight          -0.107358  0.126323  \n",
            "curbweight         -0.797465  0.820034  \n",
            "enginesize         -0.677470  0.867976  \n",
            "boreratio          -0.587012  0.557973  \n",
            "stroke             -0.043931  0.073962  \n",
            "compressionratio    0.265201  0.076198  \n",
            "horsepower         -0.770544  0.788044  \n",
            "peakrpm            -0.054275 -0.093323  \n",
            "citympg             0.971337 -0.666413  \n",
            "highwaympg          1.000000 -0.679699  \n",
            "price              -0.679699  1.000000  \n"
          ]
        }
      ]
    },
    {
      "cell_type": "markdown",
      "source": [
        "**[EX5]** Look at the correlation matrix results. Do you think a model to predict car price is feasible? Justify your answer."
      ],
      "metadata": {
        "id": "Na0yGKCoGhl_"
      }
    },
    {
      "cell_type": "markdown",
      "source": [
        "**ANSWER** Yes, I think that it is feasible because there are a lot of strong relations. For example, there are strong positive correlations as enginesize (0.86), carlength or carwidth. Also, there are strong negative correlations as or highwaympg (-0.68) or citympg. However, there are some weak correlations such as compressionratio (0,07) or car_ID, but they are few.\n",
        "\n",
        "Strong correlation means that as these features increase, the car price tends to increase as well. Then, weak correlation means the inverse relationship.\n",
        "\n",
        "To sump up, there are enough strong correlations, both positive and negative, to make a model."
      ],
      "metadata": {
        "id": "SkSUNjL0M13W"
      }
    },
    {
      "cell_type": "markdown",
      "source": [
        "**[EX6]** Filter from the previous dataset (i.e. `car_price_dt`) the following columns: `symboling`, `wheelbase`, `carlength`,\n",
        "             `carwidth`, `carheight`, `curbweight`,\n",
        "             `enginesize`, `boreratio`, `stroke`,\n",
        "             `compressionratio`, `horsepower`, `peakrpm`,\n",
        "             `citympg`, `highwaympg`, `price`. Normalize with **StandardScaler()** function all these features. Finally, create two new arrays: `y`with the `price`column and `x`with the rest of features."
      ],
      "metadata": {
        "id": "CoVSHxtvLP30"
      }
    },
    {
      "cell_type": "code",
      "source": [
        "# Filter the desired columns\n",
        "selected_columns = ['symboling', 'wheelbase', 'carlength', 'carwidth', 'carheight', 'curbweight', 'enginesize',\n",
        "                    'boreratio', 'stroke', 'compressionratio', 'horsepower', 'peakrpm', 'citympg', 'highwaympg', 'price']\n",
        "filtered_data = car_price_dt[selected_columns]\n",
        "\n",
        "# Normalize the features using StandardScaler\n",
        "scaler = StandardScaler()\n",
        "normalized_data = scaler.fit_transform(filtered_data)\n",
        "\n",
        "# Create the arrays y and x\n",
        "y = normalized_data[:, -1]  # Price column\n",
        "x = normalized_data[:, :-1]  # Rest of the features"
      ],
      "metadata": {
        "id": "FPIPMjQySOIS"
      },
      "execution_count": 9,
      "outputs": []
    },
    {
      "cell_type": "markdown",
      "source": [
        "# Step 3: Training the model and performance evaluation: Regression model to estimate the price of a car based on vehicles's features."
      ],
      "metadata": {
        "id": "-IS7FaNLHeCM"
      }
    },
    {
      "cell_type": "markdown",
      "source": [
        "**[EX7]** Build some **utils** functions we will need for our MLP architecture. Create:\n",
        "- *sigmoid* function that calculates the sigmoid of a value, array, etc....\n",
        "- *sigmoid_derivative* funtion that calculates the derivative of sigmoid for a value p.\n",
        "- *relu* function that calculates the relu of a value, array, etc....\n",
        "- *relu_derivative* funtion that calculates the derivative of relu for a value x."
      ],
      "metadata": {
        "id": "7WzkVlRjIXrN"
      }
    },
    {
      "cell_type": "code",
      "source": [
        "def sigmoid(x):\n",
        "\n",
        "    return 1 / (1 + np.exp(-x))\n",
        "\n",
        "\n",
        "def sigmoid_derivative(x):\n",
        "\n",
        "    return x * (1 - x)\n",
        "\n",
        "def relu(x):\n",
        "\n",
        "    return np.maximum(0, x)\n",
        "\n",
        "def relu_derivative(x):\n",
        "\n",
        "    derivative = 0        #if the value is greter than 0 the derivative is 1, and if it is smaller or equal 0 it is 0\n",
        "    if x>0:\n",
        "      derivative = 1\n",
        "\n",
        "    return derivative\n"
      ],
      "metadata": {
        "id": "EYeq7n0tTA-G"
      },
      "execution_count": 10,
      "outputs": []
    },
    {
      "cell_type": "markdown",
      "source": [
        "**[EX8]** Split `x`and `y`into `xtrain`, `xtest`, `ytrain`, `ytest` with 20% of total samples for testing usage."
      ],
      "metadata": {
        "id": "InRGHujBMjTG"
      }
    },
    {
      "cell_type": "code",
      "source": [
        "# Split the data into training and testing sets\n",
        "xtrain, xtest, ytrain, ytest = train_test_split(x, y, test_size=0.2, random_state=42)"
      ],
      "metadata": {
        "id": "raa3-L0sULG_"
      },
      "execution_count": 11,
      "outputs": []
    },
    {
      "cell_type": "markdown",
      "source": [
        "**[EX9]** Complete the following code to build of MLP solution with 1 hidden layer. In particular, you should:\n",
        "- 1) complete the **feedforward** method. Select the activation function of the utils section that you consider suitable for this use case (i.e. car price estimation).\n",
        "- 2) complete the **backpropagation** method\n",
        "- 3) build the **predict** method that calculates the output of the MLP based on the last calculated weights during the training process."
      ],
      "metadata": {
        "id": "D-FJNphvNEDi"
      }
    },
    {
      "cell_type": "code",
      "execution_count": 26,
      "metadata": {
        "id": "Xr9U3qsQeqv4"
      },
      "outputs": [],
      "source": [
        "# Class definition\n",
        "class NeuralNetwork:\n",
        "    def __init__(self, x,y):\n",
        "        self.input = x\n",
        "        self.number_neurons_hidden=6\n",
        "        print (self.input.shape[1]+1)\n",
        "        self.weights1= np.random.rand((self.input.shape[1]+1),self.number_neurons_hidden) # considering we have number_neurons_hidden nodes in the hidden layer and include and extra w for w0\n",
        "        print (\"Initialized weights layer1\\n\",self.weights1)\n",
        "        self.weights2 = np.random.rand((self.number_neurons_hidden+1),1)# considering we have number_neurons_hidden nodes in the hidden layer and include and extra w for w0 for last neuron\n",
        "        print(\"Initialized weights layer2\\n\",self.weights2)\n",
        "        self.y = y\n",
        "        self.output = np.zeros(y.shape)\n",
        "        self.lr=0.01\n",
        "\n",
        "    def feedforward(self):\n",
        "        #We add a column of \"1\" to input_data to multiply with w0 at first hidden layer\n",
        "        self.input_aux=np.c_[np.ones(self.input.shape[0]), self.input]\n",
        "\n",
        "        #Calculate the output of the first layer\n",
        "        self.layer1_output = sigmoid(np.dot(self.input_aux, self.weights1))\n",
        "\n",
        "\n",
        "\n",
        "        #We add a column of \"1\" to input data to the second layer to multiply with w0 at second layer\n",
        "        self.layer1_output_aux = np.c_[np.ones(self.layer1_output.shape[0]), self.layer1_output]\n",
        "\n",
        "        #Calculate the output of the first layer\n",
        "        self.layer2_output = np.dot(self.layer1_output_aux, self.weights2)\n",
        "\n",
        "\n",
        "        self.output=self.layer2_output\n",
        "        return self.output\n",
        "\n",
        "    def backpropagation(self):\n",
        "        m = self.input.shape[0]\n",
        "        #Calculate the gradient of the Error vs the output\n",
        "        gradient_output = 2 * (self.output - self.y)\n",
        "\n",
        "\n",
        "        #Calculate the gradient of the Error vs weigths at layer 2\n",
        "        gradient_weights2 = (1 / m) * np.dot(self.layer1_output_aux.T, gradient_output)\n",
        "\n",
        "\n",
        "\n",
        "        #Calculate the gradient of the Error vs weigths at layer 1\n",
        "        gradient_weights1 = (1 / m) * np.dot(self.input_aux.T, np.dot(gradient_output, self.weights2[1:].T) * sigmoid_derivative(self.layer1_output))\n",
        "\n",
        "\n",
        "        #Update the weights1 and weights2 according to gradient_weights1 and gradient_weights2 previously calculated and the learning_rate defined at the constructor of the NeuralNetwork class\n",
        "        self.weights1 -= self.lr * gradient_weights1\n",
        "        self.weights2 -= self.lr * gradient_weights2\n",
        "\n",
        "\n",
        "    def train(self, X, y):\n",
        "        self.output = self.feedforward()\n",
        "        self.backpropagation()\n",
        "\n",
        "    def predict(self, X_pred):\n",
        "\n",
        "      self.input_predict=X_pred\n",
        "      #Calculate the output of the MLP using the chosen activation function and the weights at layers 1 and 2 once fitted.\n",
        "      input_aux = np.c_[np.ones(X_pred.shape[0]), X_pred]\n",
        "      self.layer1_output = relu(np.dot(input_aux, self.weights1))\n",
        "      self.layer1_output_aux = np.c_[np.ones(self.layer1_output.shape[0]), self.layer1_output]\n",
        "      self.layer2_output = sigmoid(np.dot(self.layer1_output_aux, self.weights2))\n",
        "      self.output = self.layer2_output\n",
        "      return self.output\n"
      ]
    },
    {
      "cell_type": "markdown",
      "source": [
        "We are ready to train our model. Execute the following code to train our MLP based on xtrain and ytrain. Tip: Maybe ytrain should be reshaped to be adjusted to be an array."
      ],
      "metadata": {
        "id": "4eQ9o3_KSTVq"
      }
    },
    {
      "cell_type": "code",
      "execution_count": 27,
      "metadata": {
        "id": "ujKJaLOgeqv_",
        "colab": {
          "base_uri": "https://localhost:8080/"
        },
        "outputId": "41309a29-418e-4fea-e135-f811b8e1430a"
      },
      "outputs": [
        {
          "output_type": "stream",
          "name": "stdout",
          "text": [
            "15\n",
            "Initialized weights layer1\n",
            " [[0.50709794 0.17605285 0.35651904 0.21236368 0.10705803 0.97912936]\n",
            " [0.64167694 0.75932776 0.98705167 0.28535432 0.86730308 0.06136656]\n",
            " [0.62994545 0.00686215 0.64306695 0.97033454 0.23498931 0.96193686]\n",
            " [0.59943133 0.03223987 0.10134789 0.46308147 0.91898282 0.55940269]\n",
            " [0.82645599 0.87828303 0.31673269 0.63342347 0.28037809 0.40430575]\n",
            " [0.09740721 0.25424571 0.50754992 0.1340202  0.99430574 0.8646155 ]\n",
            " [0.09674065 0.47332249 0.41058934 0.62054362 0.39752213 0.24171786]\n",
            " [0.75487405 0.43090027 0.94117845 0.31235004 0.23454138 0.83162063]\n",
            " [0.52327992 0.89521255 0.15862019 0.46057451 0.69656589 0.57550459]\n",
            " [0.2039582  0.55105616 0.26315317 0.73176572 0.34263331 0.00169463]\n",
            " [0.69818367 0.74763075 0.57262685 0.59061862 0.3535573  0.0457981 ]\n",
            " [0.00818047 0.08382551 0.23287351 0.86530293 0.57069463 0.55139169]\n",
            " [0.35862795 0.92538319 0.22702262 0.74005522 0.6569627  0.88553756]\n",
            " [0.6415559  0.55449811 0.02954042 0.84017859 0.95087619 0.06239667]\n",
            " [0.92391716 0.12957289 0.47259919 0.28584367 0.92418091 0.01813676]]\n",
            "Initialized weights layer2\n",
            " [[0.26764536]\n",
            " [0.53931616]\n",
            " [0.70626144]\n",
            " [0.33295342]\n",
            " [0.1506469 ]\n",
            " [0.73399954]\n",
            " [0.62727799]]\n"
          ]
        }
      ],
      "source": [
        "#Vector to store the loss in every iteration\n",
        "loss=[]\n",
        "#Create the neural network\n",
        "NN = NeuralNetwork(xtrain,ytrain.reshape(-1,1))\n",
        "#Number of iterations\n",
        "epochs=1500\n",
        "for i in range(epochs):\n",
        "    NN.train(xtrain, ytrain)\n",
        "    loss.append(np.mean(np.square(y - NN.feedforward())))"
      ]
    },
    {
      "cell_type": "markdown",
      "source": [
        "Use the following **summarize_diagnostics** function to plot the loss."
      ],
      "metadata": {
        "id": "G1NuxC-AzQqS"
      }
    },
    {
      "cell_type": "code",
      "source": [
        "def summarize_diagnostics(history):\n",
        "    # plot loss\n",
        "    pyplot.subplot(211)\n",
        "    pyplot.title('Loss')\n",
        "    pyplot.plot(history, color='blue', label='train')\n",
        "    pyplot.legend(loc=\"lower center\", fontsize=14)\n",
        "    return"
      ],
      "metadata": {
        "id": "TZBFVSDAvxp6"
      },
      "execution_count": 28,
      "outputs": []
    },
    {
      "cell_type": "markdown",
      "source": [
        "**[EX10]** Plot the **loss** obtained during the training stage of the MLP. Describe the visualization"
      ],
      "metadata": {
        "id": "ULF18VQdza8o"
      }
    },
    {
      "cell_type": "code",
      "source": [
        "# Plot the loss obtained during training\n",
        "summarize_diagnostics(loss)\n"
      ],
      "metadata": {
        "colab": {
          "base_uri": "https://localhost:8080/",
          "height": 251
        },
        "id": "zZJrNaPxe-h8",
        "outputId": "6390f9b1-7c39-40cb-c877-e360ece9346d"
      },
      "execution_count": 29,
      "outputs": [
        {
          "output_type": "display_data",
          "data": {
            "text/plain": [
              "<Figure size 640x480 with 1 Axes>"
            ],
            "image/png": "[encoded data removed]"
          },
          "metadata": {}
        }
      ]
    },
    {
      "cell_type": "markdown",
      "source": [
        "**[EX11]** Execute the **predict** method of the NeuralNetwork class for xtest. Answer the following questions:\n",
        "- (1) Which is the performance of the model using ytest. Is it a good model? Justify your answer.\n",
        "- (2) Which is the mean absolute error at the original scale of the dataset (i.e. previously to normalization)?\n",
        "- (3) In case of a not too good performance, how would you tune the MLP solution (i.e. which parameters of the NN would you modify)? Execute the training and predict process again with this new setup and compare with the previous results. Are the results (i.e. R2 score and mean absolute error) as you expected? Justify your answer.\n"
      ],
      "metadata": {
        "id": "yAm6vnSu0WIl"
      }
    },
    {
      "cell_type": "code",
      "source": [
        "predictions = NN.predict(xtest)\n",
        "\n",
        "print(predictions)"
      ],
      "metadata": {
        "colab": {
          "base_uri": "https://localhost:8080/"
        },
        "id": "6Tf0HQdugF-w",
        "outputId": "f2250c17-5981-4331-9a80-a33af0e23e6e"
      },
      "execution_count": 25,
      "outputs": [
        {
          "output_type": "stream",
          "name": "stdout",
          "text": [
            "[[ 0.3869499 ]\n",
            " [ 0.70443104]\n",
            " [-0.78182311]\n",
            " [-0.81716076]\n",
            " [-0.5558483 ]\n",
            " [-0.89282188]\n",
            " [-0.84704273]\n",
            " [ 0.97294472]\n",
            " [ 0.66736284]\n",
            " [-0.82906955]\n",
            " [ 0.93469976]\n",
            " [-0.54692281]\n",
            " [-0.39545443]\n",
            " [-0.80659711]\n",
            " [ 0.384793  ]\n",
            " [ 0.45933179]\n",
            " [-0.36474536]\n",
            " [ 0.99162064]\n",
            " [-0.79731043]\n",
            " [-0.52056545]\n",
            " [ 0.9100748 ]\n",
            " [-0.39730992]\n",
            " [ 0.95326044]\n",
            " [-0.21451851]\n",
            " [-0.84632204]\n",
            " [ 0.09681181]\n",
            " [-0.80470528]\n",
            " [ 0.93024662]\n",
            " [-0.45539475]\n",
            " [-0.87331703]\n",
            " [ 0.96097534]\n",
            " [-0.7709517 ]\n",
            " [-0.8968215 ]\n",
            " [ 0.79951885]\n",
            " [-0.22493435]\n",
            " [-0.28491455]\n",
            " [ 0.66546362]\n",
            " [-0.83992788]\n",
            " [-0.87101397]\n",
            " [-0.89102316]\n",
            " [ 0.94942841]\n",
            " [ 0.94304055]\n",
            " [ 0.95371851]\n",
            " [ 0.02491929]\n",
            " [-0.84764484]\n",
            " [-0.14071433]\n",
            " [-0.82945319]\n",
            " [ 0.9880269 ]\n",
            " [-0.48363713]\n",
            " [-0.76470825]\n",
            " [-0.72696071]\n",
            " [ 0.98609694]\n",
            " [-0.08173452]\n",
            " [-0.89833525]\n",
            " [ 0.82195011]\n",
            " [-0.01997028]\n",
            " [-0.85439326]\n",
            " [ 0.12942951]\n",
            " [ 0.87959734]\n",
            " [-0.86566151]\n",
            " [ 0.92513528]\n",
            " [-0.86443496]\n",
            " [ 0.9880269 ]\n",
            " [ 0.82732029]\n",
            " [-0.49205745]\n",
            " [ 0.5579946 ]\n",
            " [-0.87691786]\n",
            " [ 0.86526329]\n",
            " [-0.19412591]\n",
            " [ 0.74030806]\n",
            " [-0.38514359]\n",
            " [ 0.4243473 ]\n",
            " [-0.11230166]\n",
            " [-0.85712008]\n",
            " [-0.89805015]\n",
            " [ 0.53441752]\n",
            " [-0.53690025]\n",
            " [-0.19161873]\n",
            " [-0.18533664]\n",
            " [ 1.00407184]\n",
            " [ 0.88056148]\n",
            " [-0.10168821]\n",
            " [-0.82906955]\n",
            " [-0.24629665]\n",
            " [-0.08681128]\n",
            " [-0.66004545]\n",
            " [ 0.97039676]\n",
            " [-0.08061154]\n",
            " [-0.87101397]\n",
            " [-0.59392749]\n",
            " [-0.47525282]\n",
            " [-0.34140655]\n",
            " [-0.39941933]\n",
            " [ 0.71058785]\n",
            " [ 0.99145685]\n",
            " [-0.82062117]\n",
            " [-0.77450636]\n",
            " [-0.89877378]\n",
            " [-0.65580577]\n",
            " [ 0.30092007]\n",
            " [ 0.98499069]\n",
            " [-0.87275361]\n",
            " [ 0.8060742 ]\n",
            " [-0.18323884]\n",
            " [-0.88918796]\n",
            " [-0.63309855]\n",
            " [ 1.00836005]\n",
            " [-0.09727454]\n",
            " [-0.85274894]\n",
            " [ 0.93454833]\n",
            " [ 0.98482593]\n",
            " [-0.8261533 ]\n",
            " [ 0.69914228]\n",
            " [ 0.7969746 ]\n",
            " [-0.13873436]\n",
            " [-0.83083786]\n",
            " [ 0.93318731]\n",
            " [ 0.1300867 ]\n",
            " [-0.08173452]\n",
            " [-0.37755253]\n",
            " [ 0.0316758 ]\n",
            " [ 1.00299175]\n",
            " [ 0.96322717]\n",
            " [ 0.80753486]\n",
            " [ 0.5393642 ]\n",
            " [ 0.55197248]\n",
            " [ 0.773326  ]\n",
            " [ 0.22185688]\n",
            " [-0.86226292]\n",
            " [ 0.7258453 ]\n",
            " [-0.92850866]\n",
            " [ 0.96959325]\n",
            " [ 0.46558292]\n",
            " [ 0.11482957]\n",
            " [ 0.99145685]\n",
            " [-0.50546358]\n",
            " [-0.86125856]\n",
            " [-0.36178836]\n",
            " [-0.75479157]\n",
            " [ 0.921931  ]\n",
            " [ 1.01148047]\n",
            " [-0.57949558]\n",
            " [-0.87241719]\n",
            " [ 0.29192956]\n",
            " [-0.53690025]\n",
            " [-0.8964224 ]\n",
            " [-0.13617573]\n",
            " [ 0.20604271]\n",
            " [-0.90483963]\n",
            " [ 0.87631465]\n",
            " [-0.28989568]\n",
            " [ 0.97294472]\n",
            " [-0.27670033]\n",
            " [ 1.00154356]\n",
            " [-0.86493095]\n",
            " [ 0.92733814]\n",
            " [-0.85268281]\n",
            " [ 0.09914196]\n",
            " [ 0.96193302]\n",
            " [ 0.89182138]\n",
            " [ 0.67932455]\n",
            " [-0.82282657]\n",
            " [ 0.93540468]\n",
            " [ 0.88421885]]\n"
          ]
        }
      ]
    }
  ],
  "metadata": {
    "colab": {
      "provenance": []
    },
    "kernelspec": {
      "display_name": "Python 3",
      "language": "python",
      "name": "python3"
    },
    "language_info": {
      "codemirror_mode": {
        "name": "ipython",
        "version": 3
      },
      "file_extension": ".py",
      "mimetype": "text/x-python",
      "name": "python",
      "nbconvert_exporter": "python",
      "pygments_lexer": "ipython3",
      "version": "3.8.5"
    }
  },
  "nbformat": 4,
  "nbformat_minor": 0
}